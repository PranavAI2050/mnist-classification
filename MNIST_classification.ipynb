{
  "nbformat": 4,
  "nbformat_minor": 0,
  "metadata": {
    "colab": {
      "provenance": []
    },
    "kernelspec": {
      "name": "python3",
      "display_name": "Python 3"
    },
    "language_info": {
      "name": "python"
    }
  },
  "cells": [
    {
      "cell_type": "markdown",
      "source": [
        "# 🧠 MNIST Dataset Overview\n",
        "\n",
        "The **MNIST (Modified National Institute of Standards and Technology)** dataset is a large collection of handwritten digits commonly used for training various image processing systems.\n",
        "\n",
        "---\n",
        "\n",
        "## 📊 Dataset Details\n",
        "\n",
        "- **Total Images**: 70,000\n",
        "  - **Training Set**: 60,000 images\n",
        "  - **Test Set**: 10,000 images\n",
        "- **Image Size**: 28x28 pixels\n",
        "- **Color Channels**: Grayscale (1 channel)\n",
        "- **Classes**: Digits from 0 to 9 (10 classes)\n",
        "\n",
        "---\n",
        "\n",
        "## 🖼️ Sample Images\n",
        "\n",
        "Here are a few sample images from the MNIST dataset:\n",
        "\n",
        "![MNIST Digits](https://upload.wikimedia.org/wikipedia/commons/2/27/MnistExamples.png)\n",
        "\n",
        "---\n",
        "\n",
        "## 🔍 Common Uses\n",
        "\n",
        "- Training and benchmarking machine learning models\n",
        "- Image classification tasks\n",
        "- Testing convolutional neural networks (CNNs)\n",
        "\n",
        "---\n"
      ],
      "metadata": {
        "id": "YLJmq8CjJdfo"
      }
    },
    {
      "cell_type": "markdown",
      "source": [
        "## 📥 Necessary Imports"
      ],
      "metadata": {
        "id": "rQ2-fV9fKDuM"
      }
    },
    {
      "cell_type": "code",
      "source": [
        "import numpy as np\n",
        "import matplotlib.pyplot as plt\n",
        "import seaborn as sns\n",
        "from tensorflow.keras.datasets import mnist"
      ],
      "metadata": {
        "id": "eHbwx9M9JyDS"
      },
      "execution_count": 9,
      "outputs": []
    },
    {
      "cell_type": "code",
      "source": [
        "from sklearn.model_selection import train_test_split\n",
        "from sklearn.linear_model import LogisticRegression\n",
        "from sklearn.metrics import classification_report, accuracy_score"
      ],
      "metadata": {
        "id": "8weV4xdQNi3y"
      },
      "execution_count": 10,
      "outputs": []
    },
    {
      "cell_type": "code",
      "source": [
        "import tensorflow as tf\n",
        "from tensorflow.keras.models import Sequential\n",
        "from tensorflow.keras.layers import Flatten, Dense\n",
        "from tensorflow.keras.utils import to_categorical"
      ],
      "metadata": {
        "id": "27cx0U3hOnB7"
      },
      "execution_count": 13,
      "outputs": []
    },
    {
      "cell_type": "code",
      "source": [
        "from tensorflow.keras.layers import Conv2D, MaxPooling2D, Dropout"
      ],
      "metadata": {
        "id": "InKM-gxEPRSA"
      },
      "execution_count": 14,
      "outputs": []
    },
    {
      "cell_type": "code",
      "source": [
        "from sklearn.metrics import accuracy_score, confusion_matrix, ConfusionMatrixDisplay"
      ],
      "metadata": {
        "id": "nfQw5EBKWkvD"
      },
      "execution_count": 27,
      "outputs": []
    },
    {
      "cell_type": "markdown",
      "source": [
        "## 📦 Load the data\n",
        "\n"
      ],
      "metadata": {
        "id": "13H56XUIJpL3"
      }
    },
    {
      "cell_type": "code",
      "source": [
        "from tensorflow.keras.datasets import mnist\n",
        "\n",
        "(x_train, y_train), (x_test, y_test) = mnist.load_data()"
      ],
      "metadata": {
        "colab": {
          "base_uri": "https://localhost:8080/"
        },
        "id": "o1n5UIXGJfUM",
        "outputId": "ab091c95-7bfd-4147-9046-d0f5c9d2e5a7"
      },
      "execution_count": null,
      "outputs": [
        {
          "output_type": "stream",
          "name": "stdout",
          "text": [
            "Downloading data from https://storage.googleapis.com/tensorflow/tf-keras-datasets/mnist.npz\n",
            "\u001b[1m11490434/11490434\u001b[0m \u001b[32m━━━━━━━━━━━━━━━━━━━━\u001b[0m\u001b[37m\u001b[0m \u001b[1m1s\u001b[0m 0us/step\n"
          ]
        }
      ]
    },
    {
      "cell_type": "markdown",
      "source": [
        "# 🧠 MNIST Dataset EDA"
      ],
      "metadata": {
        "id": "jo4iKPmcLFES"
      }
    },
    {
      "cell_type": "markdown",
      "source": [
        "## 🔢 Visualize Sample Digits\n"
      ],
      "metadata": {
        "id": "kThdIfA1Li6d"
      }
    },
    {
      "cell_type": "code",
      "source": [
        "plt.figure(figsize=(10,5));\n",
        "for i in range(10):\n",
        "    plt.subplot(2, 5, i + 1)\n",
        "    plt.imshow(x_train[i], cmap='gray')\n",
        "    plt.title(f\"Label: {y_train[i]}\")\n",
        "    plt.axis('off')\n",
        "plt.suptitle(\"Sample Digits from MNIST\")\n",
        "plt.tight_layout()\n",
        "plt.show()"
      ],
      "metadata": {
        "colab": {
          "base_uri": "https://localhost:8080/",
          "height": 513
        },
        "id": "QTrbfL9BLAjK",
        "outputId": "4477be9c-3236-48ad-a704-b6daf8aa92e7"
      },
      "execution_count": null,
      "outputs": [
        {
          "output_type": "display_data",
          "data": {
            "text/plain": [
              "<Figure size 1000x500 with 10 Axes>"
            ],
            "image/png": "[encoded data removed]"
          },
          "metadata": {}
        }
      ]
    },
    {
      "cell_type": "markdown",
      "source": [
        "## 📊 Check Label Distribution"
      ],
      "metadata": {
        "id": "iXcmRonALoOh"
      }
    },
    {
      "cell_type": "code",
      "source": [
        "plt.figure(figsize=(8, 4))\n",
        "sns.countplot(x=y_train)\n",
        "plt.title(\"Distribution of Labels in Training Set\")\n",
        "plt.xlabel(\"Digit Label\")\n",
        "plt.ylabel(\"Count\")\n",
        "plt.show()"
      ],
      "metadata": {
        "colab": {
          "base_uri": "https://localhost:8080/",
          "height": 410
        },
        "id": "kww0tmNCLX30",
        "outputId": "b4c545ac-523b-45f0-f318-302c495a8650"
      },
      "execution_count": null,
      "outputs": [
        {
          "output_type": "display_data",
          "data": {
            "text/plain": [
              "<Figure size 800x400 with 1 Axes>"
            ],
            "image/png": "[encoded data removed]"
          },
          "metadata": {}
        }
      ]
    },
    {
      "cell_type": "markdown",
      "source": [
        "## ⚖️ Normalize the Data"
      ],
      "metadata": {
        "id": "RTv5Qe9eL0BH"
      }
    },
    {
      "cell_type": "code",
      "source": [
        "x_train_normalized = x_train / 255.0\n",
        "x_test_normalized = x_test / 255.0"
      ],
      "metadata": {
        "id": "dBH4vgjcL3eJ"
      },
      "execution_count": null,
      "outputs": []
    },
    {
      "cell_type": "markdown",
      "source": [
        "## ✅ Verify normalization range\n"
      ],
      "metadata": {
        "id": "Iv8zzv7ZL9SW"
      }
    },
    {
      "cell_type": "code",
      "source": [
        "print(f\"x_train_normalized range: {x_train_normalized.min()} to {x_train_normalized.max()}\")"
      ],
      "metadata": {
        "colab": {
          "base_uri": "https://localhost:8080/"
        },
        "id": "-8om-YJ8LvYb",
        "outputId": "96346054-a449-4499-dd1f-07c1f635f52d"
      },
      "execution_count": null,
      "outputs": [
        {
          "output_type": "stream",
          "name": "stdout",
          "text": [
            "x_train_normalized range: 0.0 to 1.0\n"
          ]
        }
      ]
    },
    {
      "cell_type": "markdown",
      "source": [
        "## 📝 Conclusion\n",
        "\n",
        "- The MNIST dataset contains **60,000 training images** and **10,000 test images** of handwritten digits (0-9), each sized 28x28 pixels in grayscale.\n",
        "- Visualization of sample digits confirms the dataset’s diversity and quality for digit recognition tasks.\n",
        "- The label distribution is **well-balanced** across all classes, making it suitable for training unbiased models.\n",
        "- Normalizing pixel values to the range **[0, 1]** helps improve model convergence and performance during training.\n",
        "\n",
        "This basic EDA provides a solid foundation for building and evaluating machine learning models on the MNIST dataset.\n"
      ],
      "metadata": {
        "id": "0BFOob4IMJZp"
      }
    },
    {
      "cell_type": "markdown",
      "source": [
        "## 🔀 Split Data into Train/Test Sets `(already done)`"
      ],
      "metadata": {
        "id": "33oBZJGDMwQC"
      }
    },
    {
      "cell_type": "markdown",
      "source": [
        "## 🎯 Baseline model using Logistic Regression from scikit-learn\n"
      ],
      "metadata": {
        "id": "FvG-vESbNuRo"
      }
    },
    {
      "cell_type": "markdown",
      "source": [
        "## 🧩 Flatten data as required by Logistic Regression\n"
      ],
      "metadata": {
        "id": "7vEwlMcIOLQs"
      }
    },
    {
      "cell_type": "code",
      "source": [
        "x_train_flat = x_train.reshape(x_train.shape[0], -1)\n",
        "x_test_flat = x_test.reshape(x_test.shape[0], -1)"
      ],
      "metadata": {
        "id": "Q4HI_mhHOEp9"
      },
      "execution_count": 11,
      "outputs": []
    },
    {
      "cell_type": "code",
      "source": [
        "model = LogisticRegression(max_iter=100, solver='saga', multi_class='multinomial', n_jobs=-1, verbose=1)\n",
        "\n",
        "model.fit(x_train_flat, y_train)\n",
        "\n",
        "y_pred = model.predict(x_test_flat)\n",
        "\n",
        "print(\"Accuracy:\", accuracy_score(y_test, y_pred))\n",
        "print(\"\\nClassification Report:\\n\", classification_report(y_test, y_pred))"
      ],
      "metadata": {
        "id": "ur3EGa-VMBbk",
        "colab": {
          "base_uri": "https://localhost:8080/"
        },
        "outputId": "f4b98f38-51e1-49ab-d8f3-1d9b6384a951"
      },
      "execution_count": 12,
      "outputs": [
        {
          "output_type": "stream",
          "name": "stderr",
          "text": [
            "/usr/local/lib/python3.11/dist-packages/sklearn/linear_model/_logistic.py:1247: FutureWarning: 'multi_class' was deprecated in version 1.5 and will be removed in 1.7. From then on, it will always use 'multinomial'. Leave it to its default value to avoid this warning.\n",
            "  warnings.warn(\n",
            "[Parallel(n_jobs=-1)]: Using backend ThreadingBackend with 2 concurrent workers.\n"
          ]
        },
        {
          "output_type": "stream",
          "name": "stdout",
          "text": [
            "max_iter reached after 272 seconds\n",
            "Accuracy: 0.9255\n",
            "\n",
            "Classification Report:\n",
            "               precision    recall  f1-score   support\n",
            "\n",
            "           0       0.95      0.98      0.96       980\n",
            "           1       0.96      0.98      0.97      1135\n",
            "           2       0.93      0.90      0.91      1032\n",
            "           3       0.90      0.92      0.91      1010\n",
            "           4       0.94      0.93      0.94       982\n",
            "           5       0.91      0.86      0.88       892\n",
            "           6       0.94      0.95      0.95       958\n",
            "           7       0.93      0.92      0.93      1028\n",
            "           8       0.87      0.89      0.88       974\n",
            "           9       0.91      0.91      0.91      1009\n",
            "\n",
            "    accuracy                           0.93     10000\n",
            "   macro avg       0.92      0.92      0.92     10000\n",
            "weighted avg       0.93      0.93      0.93     10000\n",
            "\n"
          ]
        },
        {
          "output_type": "stream",
          "name": "stderr",
          "text": [
            "/usr/local/lib/python3.11/dist-packages/sklearn/linear_model/_sag.py:348: ConvergenceWarning: The max_iter was reached which means the coef_ did not converge\n",
            "  warnings.warn(\n"
          ]
        }
      ]
    },
    {
      "cell_type": "markdown",
      "source": [
        "## 🚀 Upgrade Model\n"
      ],
      "metadata": {
        "id": "HP9Y2hT-Odmb"
      }
    },
    {
      "cell_type": "markdown",
      "source": [
        "## 🧠 Simple MLP (Fully Connected Neural Network)\n"
      ],
      "metadata": {
        "id": "biXWyCoiOhWQ"
      }
    },
    {
      "cell_type": "markdown",
      "source": [
        "## 🎯 One-hot encode labels"
      ],
      "metadata": {
        "id": "qaO-9rQ4OyIq"
      }
    },
    {
      "cell_type": "code",
      "source": [
        "y_train = to_categorical(y_train, 10)\n",
        "y_test = to_categorical(y_test, 10)"
      ],
      "metadata": {
        "id": "OoFBraiAOiCl"
      },
      "execution_count": 15,
      "outputs": []
    },
    {
      "cell_type": "markdown",
      "source": [
        "## 🏗️ Build MLP model\n"
      ],
      "metadata": {
        "id": "7flamRMGO_7-"
      }
    },
    {
      "cell_type": "code",
      "source": [
        "model = Sequential([\n",
        "    Flatten(input_shape=(28, 28)),\n",
        "    Dense(128, activation='relu'),\n",
        "    Dense(64, activation='relu'),\n",
        "    Dense(10, activation='softmax')\n",
        "])\n",
        "\n",
        "model.compile(optimizer='adam',\n",
        "              loss='categorical_crossentropy',\n",
        "              metrics=['accuracy'])"
      ],
      "metadata": {
        "colab": {
          "base_uri": "https://localhost:8080/"
        },
        "id": "pxCIdaJIO4rO",
        "outputId": "1380265f-a9d0-44e4-e3ba-8aecebdb3ab8"
      },
      "execution_count": 16,
      "outputs": [
        {
          "output_type": "stream",
          "name": "stderr",
          "text": [
            "/usr/local/lib/python3.11/dist-packages/keras/src/layers/reshaping/flatten.py:37: UserWarning: Do not pass an `input_shape`/`input_dim` argument to a layer. When using Sequential models, prefer using an `Input(shape)` object as the first layer in the model instead.\n",
            "  super().__init__(**kwargs)\n"
          ]
        }
      ]
    },
    {
      "cell_type": "markdown",
      "source": [
        "## 🏋️‍♂️ Train and evaluate\n"
      ],
      "metadata": {
        "id": "xHUL_qm6PBli"
      }
    },
    {
      "cell_type": "code",
      "source": [
        "model.fit(x_train, y_train, epochs=10, batch_size=32, validation_split=0.1)\n",
        "\n",
        "loss, accuracy = model.evaluate(x_test, y_test)\n",
        "print(f\"Test Accuracy: {accuracy:.4f}\")"
      ],
      "metadata": {
        "colab": {
          "base_uri": "https://localhost:8080/"
        },
        "id": "_QBL57K7O7UB",
        "outputId": "f7d9505b-7012-4f8f-b81e-5f6cfd488d4e"
      },
      "execution_count": 17,
      "outputs": [
        {
          "output_type": "stream",
          "name": "stdout",
          "text": [
            "Epoch 1/10\n",
            "\u001b[1m1688/1688\u001b[0m \u001b[32m━━━━━━━━━━━━━━━━━━━━\u001b[0m\u001b[37m\u001b[0m \u001b[1m13s\u001b[0m 7ms/step - accuracy: 0.8072 - loss: 5.2556 - val_accuracy: 0.9183 - val_loss: 0.3504\n",
            "Epoch 2/10\n",
            "\u001b[1m1688/1688\u001b[0m \u001b[32m━━━━━━━━━━━━━━━━━━━━\u001b[0m\u001b[37m\u001b[0m \u001b[1m25s\u001b[0m 10ms/step - accuracy: 0.9234 - loss: 0.3344 - val_accuracy: 0.9402 - val_loss: 0.2421\n",
            "Epoch 3/10\n",
            "\u001b[1m1688/1688\u001b[0m \u001b[32m━━━━━━━━━━━━━━━━━━━━\u001b[0m\u001b[37m\u001b[0m \u001b[1m17s\u001b[0m 8ms/step - accuracy: 0.9424 - loss: 0.2134 - val_accuracy: 0.9543 - val_loss: 0.1688\n",
            "Epoch 4/10\n",
            "\u001b[1m1688/1688\u001b[0m \u001b[32m━━━━━━━━━━━━━━━━━━━━\u001b[0m\u001b[37m\u001b[0m \u001b[1m13s\u001b[0m 8ms/step - accuracy: 0.9563 - loss: 0.1577 - val_accuracy: 0.9622 - val_loss: 0.1494\n",
            "Epoch 5/10\n",
            "\u001b[1m1688/1688\u001b[0m \u001b[32m━━━━━━━━━━━━━━━━━━━━\u001b[0m\u001b[37m\u001b[0m \u001b[1m16s\u001b[0m 5ms/step - accuracy: 0.9622 - loss: 0.1357 - val_accuracy: 0.9645 - val_loss: 0.1351\n",
            "Epoch 6/10\n",
            "\u001b[1m1688/1688\u001b[0m \u001b[32m━━━━━━━━━━━━━━━━━━━━\u001b[0m\u001b[37m\u001b[0m \u001b[1m16s\u001b[0m 9ms/step - accuracy: 0.9649 - loss: 0.1224 - val_accuracy: 0.9687 - val_loss: 0.1100\n",
            "Epoch 7/10\n",
            "\u001b[1m1688/1688\u001b[0m \u001b[32m━━━━━━━━━━━━━━━━━━━━\u001b[0m\u001b[37m\u001b[0m \u001b[1m16s\u001b[0m 7ms/step - accuracy: 0.9705 - loss: 0.1012 - val_accuracy: 0.9658 - val_loss: 0.1323\n",
            "Epoch 8/10\n",
            "\u001b[1m1688/1688\u001b[0m \u001b[32m━━━━━━━━━━━━━━━━━━━━\u001b[0m\u001b[37m\u001b[0m \u001b[1m8s\u001b[0m 5ms/step - accuracy: 0.9719 - loss: 0.0949 - val_accuracy: 0.9690 - val_loss: 0.1233\n",
            "Epoch 9/10\n",
            "\u001b[1m1688/1688\u001b[0m \u001b[32m━━━━━━━━━━━━━━━━━━━━\u001b[0m\u001b[37m\u001b[0m \u001b[1m10s\u001b[0m 5ms/step - accuracy: 0.9758 - loss: 0.0868 - val_accuracy: 0.9703 - val_loss: 0.1327\n",
            "Epoch 10/10\n",
            "\u001b[1m1688/1688\u001b[0m \u001b[32m━━━━━━━━━━━━━━━━━━━━\u001b[0m\u001b[37m\u001b[0m \u001b[1m11s\u001b[0m 5ms/step - accuracy: 0.9761 - loss: 0.0827 - val_accuracy: 0.9677 - val_loss: 0.1207\n",
            "\u001b[1m313/313\u001b[0m \u001b[32m━━━━━━━━━━━━━━━━━━━━\u001b[0m\u001b[37m\u001b[0m \u001b[1m1s\u001b[0m 2ms/step - accuracy: 0.9587 - loss: 0.1799\n",
            "Test Accuracy: 0.9646\n"
          ]
        }
      ]
    },
    {
      "cell_type": "markdown",
      "source": [
        "## 🖼️ CNN (Convolutional Neural Network) for Better Accuracy\n"
      ],
      "metadata": {
        "id": "qfwhrfwLPJUW"
      }
    },
    {
      "cell_type": "markdown",
      "source": [
        "## 🔄 Reshape data for CNN: add channel dimension\n"
      ],
      "metadata": {
        "id": "SVxuQxmPPeb4"
      }
    },
    {
      "cell_type": "code",
      "source": [
        "x_train_cnn = x_train.reshape(-1, 28, 28, 1)\n",
        "x_test_cnn = x_test.reshape(-1, 28, 28, 1)"
      ],
      "metadata": {
        "id": "4DznLpp2PN1r"
      },
      "execution_count": 18,
      "outputs": []
    },
    {
      "cell_type": "markdown",
      "source": [
        "## 🏗️ Build CNN model\n"
      ],
      "metadata": {
        "id": "-g02aN7fPjI9"
      }
    },
    {
      "cell_type": "code",
      "source": [
        "cnn_model = Sequential([\n",
        "    Conv2D(32, kernel_size=(3,3), activation='relu', input_shape=(28,28,1)),\n",
        "    MaxPooling2D(pool_size=(2,2)),\n",
        "    Conv2D(64, kernel_size=(3,3), activation='relu'),\n",
        "    MaxPooling2D(pool_size=(2,2)),\n",
        "    Flatten(),\n",
        "    Dense(128, activation='relu'),\n",
        "    Dropout(0.5),\n",
        "    Dense(10, activation='softmax')\n",
        "])\n",
        "\n",
        "cnn_model.compile(optimizer='adam',\n",
        "                  loss='categorical_crossentropy',\n",
        "                  metrics=['accuracy'])\n"
      ],
      "metadata": {
        "colab": {
          "base_uri": "https://localhost:8080/"
        },
        "id": "eC8kGPmXPn_F",
        "outputId": "a252076f-e3d8-408a-b2a7-748974449967"
      },
      "execution_count": 19,
      "outputs": [
        {
          "output_type": "stream",
          "name": "stderr",
          "text": [
            "/usr/local/lib/python3.11/dist-packages/keras/src/layers/convolutional/base_conv.py:107: UserWarning: Do not pass an `input_shape`/`input_dim` argument to a layer. When using Sequential models, prefer using an `Input(shape)` object as the first layer in the model instead.\n",
            "  super().__init__(activity_regularizer=activity_regularizer, **kwargs)\n"
          ]
        }
      ]
    },
    {
      "cell_type": "markdown",
      "source": [
        "## 🏋️‍♂️ Train and evaluate\n"
      ],
      "metadata": {
        "id": "SpuuWI7fPtdE"
      }
    },
    {
      "cell_type": "code",
      "source": [
        "history = cnn_model.fit(\n",
        "    x_train_cnn, y_train,\n",
        "    epochs=10,\n",
        "    batch_size=64,\n",
        "    validation_split=0.1,\n",
        "    verbose=2\n",
        ")\n",
        "\n",
        "y_pred_prob = cnn_model.predict(x_test_cnn)\n",
        "y_pred = np.argmax(y_pred_prob, axis=1)"
      ],
      "metadata": {
        "colab": {
          "base_uri": "https://localhost:8080/"
        },
        "id": "KWwcuqW6PsUN",
        "outputId": "22e0e9b8-8997-4b0d-8c00-5fc52006c2a8"
      },
      "execution_count": 25,
      "outputs": [
        {
          "output_type": "stream",
          "name": "stdout",
          "text": [
            "Epoch 1/10\n",
            "844/844 - 50s - 59ms/step - accuracy: 0.9824 - loss: 0.0606 - val_accuracy: 0.9895 - val_loss: 0.0467\n",
            "Epoch 2/10\n",
            "844/844 - 79s - 94ms/step - accuracy: 0.9844 - loss: 0.0535 - val_accuracy: 0.9900 - val_loss: 0.0461\n",
            "Epoch 3/10\n",
            "844/844 - 86s - 102ms/step - accuracy: 0.9847 - loss: 0.0508 - val_accuracy: 0.9910 - val_loss: 0.0410\n",
            "Epoch 4/10\n",
            "844/844 - 76s - 90ms/step - accuracy: 0.9865 - loss: 0.0462 - val_accuracy: 0.9875 - val_loss: 0.0526\n",
            "Epoch 5/10\n",
            "844/844 - 49s - 58ms/step - accuracy: 0.9866 - loss: 0.0422 - val_accuracy: 0.9907 - val_loss: 0.0392\n",
            "Epoch 6/10\n",
            "844/844 - 81s - 96ms/step - accuracy: 0.9864 - loss: 0.0451 - val_accuracy: 0.9878 - val_loss: 0.0562\n",
            "Epoch 7/10\n",
            "844/844 - 83s - 98ms/step - accuracy: 0.9876 - loss: 0.0427 - val_accuracy: 0.9915 - val_loss: 0.0433\n",
            "Epoch 8/10\n",
            "844/844 - 81s - 96ms/step - accuracy: 0.9893 - loss: 0.0362 - val_accuracy: 0.9897 - val_loss: 0.0606\n",
            "Epoch 9/10\n",
            "844/844 - 83s - 98ms/step - accuracy: 0.9886 - loss: 0.0375 - val_accuracy: 0.9885 - val_loss: 0.0657\n",
            "Epoch 10/10\n",
            "844/844 - 47s - 56ms/step - accuracy: 0.9889 - loss: 0.0354 - val_accuracy: 0.9890 - val_loss: 0.0654\n",
            "\u001b[1m313/313\u001b[0m \u001b[32m━━━━━━━━━━━━━━━━━━━━\u001b[0m\u001b[37m\u001b[0m \u001b[1m3s\u001b[0m 9ms/step\n"
          ]
        }
      ]
    },
    {
      "cell_type": "markdown",
      "source": [
        "## 🔄 Converting back to original integer labels\n"
      ],
      "metadata": {
        "id": "EgESfY9mWZap"
      }
    },
    {
      "cell_type": "code",
      "source": [
        "y_train_labels = np.argmax(y_train, axis=1)\n",
        "y_test_labels = np.argmax(y_test, axis=1)"
      ],
      "metadata": {
        "id": "bGsP_f3lV7hL"
      },
      "execution_count": 26,
      "outputs": []
    },
    {
      "cell_type": "markdown",
      "source": [
        "## 📉 Confusion matrix, Plot training/validation curves for final CNN model with highest accuracy\n"
      ],
      "metadata": {
        "id": "t1JEre7HQMNH"
      }
    },
    {
      "cell_type": "markdown",
      "source": [
        "## 🎯 Accuracy score\n"
      ],
      "metadata": {
        "id": "xbgMc2I2ZVw6"
      }
    },
    {
      "cell_type": "code",
      "source": [
        "acc = accuracy_score(y_test_labels, y_pred)\n",
        "print(f\"Test Accuracy: {acc:.4f}\")"
      ],
      "metadata": {
        "colab": {
          "base_uri": "https://localhost:8080/"
        },
        "id": "TRQN0dSuZV-u",
        "outputId": "ffdd806c-cf1e-4e3a-8c97-dab7eb823762"
      },
      "execution_count": 36,
      "outputs": [
        {
          "output_type": "stream",
          "name": "stdout",
          "text": [
            "Test Accuracy: 0.9894\n"
          ]
        }
      ]
    },
    {
      "cell_type": "markdown",
      "source": [
        "## 🧮 Confusion matrix\n"
      ],
      "metadata": {
        "id": "E1F4w0S7Wt87"
      }
    },
    {
      "cell_type": "code",
      "source": [
        "cm = confusion_matrix(y_test_labels, y_pred)\n",
        "disp = ConfusionMatrixDisplay(confusion_matrix=cm, display_labels=range(10))\n",
        "disp.plot(cmap=plt.cm.Blues)\n",
        "plt.title(\"Confusion Matrix\")\n",
        "plt.show()"
      ],
      "metadata": {
        "colab": {
          "base_uri": "https://localhost:8080/",
          "height": 472
        },
        "id": "SOg74GKuWM4M",
        "outputId": "68f424a8-e086-414b-9f11-27e1b5f25dcd"
      },
      "execution_count": 28,
      "outputs": [
        {
          "output_type": "display_data",
          "data": {
            "text/plain": [
              "<Figure size 640x480 with 2 Axes>"
            ],
            "image/png": "[encoded data removed]"
          },
          "metadata": {}
        }
      ]
    },
    {
      "cell_type": "markdown",
      "source": [
        "## 📈 Plot training & validation accuracy/loss curves\n"
      ],
      "metadata": {
        "id": "ekIKxgEUW1Hn"
      }
    },
    {
      "cell_type": "code",
      "source": [
        "plt.figure(figsize=(12,5))\n",
        "\n",
        "plt.subplot(1,2,1)\n",
        "plt.plot(history.history['accuracy'], label='Train Accuracy')\n",
        "plt.plot(history.history['val_accuracy'], label='Validation Accuracy')\n",
        "plt.title('Training and Validation Accuracy')\n",
        "plt.xlabel('Epoch')\n",
        "plt.ylabel('Accuracy')\n",
        "plt.ylim(0.8, 1.0)\n",
        "plt.legend()\n",
        "\n",
        "\n",
        "plt.subplot(1,2,2)\n",
        "plt.plot(history.history['loss'], label='Train Loss')\n",
        "plt.plot(history.history['val_loss'], label='Validation Loss')\n",
        "plt.title('Training and Validation Loss')\n",
        "plt.xlabel('Epoch')\n",
        "plt.ylabel('Loss')\n",
        "max_loss = max(max(history.history['loss']), max(history.history['val_loss']))\n",
        "plt.ylim(0, 1)\n",
        "plt.legend()\n",
        "\n",
        "plt.tight_layout()\n",
        "plt.show()\n",
        "\n"
      ],
      "metadata": {
        "colab": {
          "base_uri": "https://localhost:8080/",
          "height": 369
        },
        "id": "zQgNplRYWr8q",
        "outputId": "3b9a3bd2-6d60-403c-e2d3-b976be0e1fa6"
      },
      "execution_count": 34,
      "outputs": [
        {
          "output_type": "display_data",
          "data": {
            "text/plain": [
              "<Figure size 1200x500 with 2 Axes>"
            ],
            "image/png": "[encoded data removed]"
          },
          "metadata": {}
        }
      ]
    },
    {
      "cell_type": "markdown",
      "source": [
        "## 📝 Final Report: Handwritten Digit Classification on MNIST\n",
        "\n",
        "---\n",
        "\n",
        "## 1. Introduction\n",
        "\n",
        "This report presents the results of three models applied to the MNIST handwritten digit dataset:\n",
        "\n",
        "- Logistic Regression (baseline)\n",
        "- Fully Connected Neural Network (Sequential MLP)\n",
        "- Convolutional Neural Network (CNN)\n",
        "\n",
        "The goal was to classify grayscale 28x28 pixel images into one of 10 digit classes (0-9).\n",
        "\n",
        "---\n",
        "\n",
        "## 2. Logistic Regression Results\n",
        "\n",
        "### Performance Metrics\n",
        "- **Overall accuracy:** 93%\n",
        "- **Macro average F1-score:** 0.92\n",
        "\n",
        "### Observations\n",
        "\n",
        "- The Logistic Regression baseline performs well with a solid overall accuracy.\n",
        "- Some confusion exists among digits 2, 3, 5, and 8, which are visually similar, as reflected in slightly lower precision and recall.\n",
        "- The model provides a strong starting point for classification but leaves room for improvement.\n",
        "\n",
        "---\n",
        "\n",
        "## 3. Sequential (MLP) Model Results\n",
        "\n",
        "- Training accuracy reached approximately **97.6%**.\n",
        "- Validation accuracy peaked at around **96.8%**.\n",
        "- On the test set, the model achieved an accuracy of **96.4%**.\n",
        "\n",
        "This demonstrates an improvement over the Logistic Regression baseline, thanks to the network's ability to learn nonlinear patterns.\n",
        "\n",
        "---\n",
        "\n",
        "## 4. Convolutional Neural Network (CNN) Results\n",
        "\n",
        "- The CNN further improved performance with a **test accuracy of 98.94%**.\n",
        "- The model architecture utilized convolutional and max-pooling layers to extract spatial features effectively.\n",
        "- Training and validation curves show stable training with minimal overfitting.\n",
        "- The confusion matrix indicates strong class-wise predictions, with few misclassifications.\n",
        "\n",
        "---\n",
        "\n",
        "\n",
        "## 5. Conclusion\n",
        "\n",
        "- The Logistic Regression model provides a strong baseline with **93% accuracy**.\n",
        "- Using a Sequential MLP network increased accuracy to about **96.4%** by capturing nonlinear relationships.\n",
        "- The CNN model achieved the best performance (**98.94% accuracy**) by leveraging spatial features in images.\n",
        "- Visual analysis of confusion matrices and learning curves confirms model robustness and balanced class performance.\n",
        "- Further improvements could include data augmentation, hyperparameter tuning, or deeper architectures.\n",
        "\n",
        "---\n",
        "\n",
        "## 7. Future Work\n",
        "\n",
        "- Explore more complex CNN architectures (e.g., ResNet, DenseNet).\n",
        "- Implement dropout and batch normalization for better regularization.\n",
        "- Utilize data augmentation to enhance generalization.\n",
        "- Experiment with learning rate schedules and optimizer variants.\n",
        "\n",
        "---\n"
      ],
      "metadata": {
        "id": "XvS5_yYGYk1h"
      }
    }
  ]
}